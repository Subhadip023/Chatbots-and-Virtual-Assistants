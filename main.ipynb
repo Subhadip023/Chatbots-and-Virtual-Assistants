{
 "cells": [
  {
   "cell_type": "code",
   "execution_count": 1,
   "id": "636ac9d1",
   "metadata": {},
   "outputs": [],
   "source": [
    "import pandas as pd"
   ]
  },
  {
   "cell_type": "code",
   "execution_count": 2,
   "id": "6d565a5b",
   "metadata": {},
   "outputs": [],
   "source": [
    "data=pd.read_csv('data/Bitext_Sample_Customer_Service_Training_Dataset.csv')"
   ]
  },
  {
   "cell_type": "code",
   "execution_count": 3,
   "id": "c0e4496e",
   "metadata": {},
   "outputs": [
    {
     "data": {
      "text/html": [
       "<div>\n",
       "<style scoped>\n",
       "    .dataframe tbody tr th:only-of-type {\n",
       "        vertical-align: middle;\n",
       "    }\n",
       "\n",
       "    .dataframe tbody tr th {\n",
       "        vertical-align: top;\n",
       "    }\n",
       "\n",
       "    .dataframe thead th {\n",
       "        text-align: right;\n",
       "    }\n",
       "</style>\n",
       "<table border=\"1\" class=\"dataframe\">\n",
       "  <thead>\n",
       "    <tr style=\"text-align: right;\">\n",
       "      <th></th>\n",
       "      <th>flags</th>\n",
       "      <th>utterance</th>\n",
       "      <th>category</th>\n",
       "      <th>intent</th>\n",
       "    </tr>\n",
       "  </thead>\n",
       "  <tbody>\n",
       "    <tr>\n",
       "      <th>0</th>\n",
       "      <td>BM</td>\n",
       "      <td>I have problems with canceling an order</td>\n",
       "      <td>ORDER</td>\n",
       "      <td>cancel_order</td>\n",
       "    </tr>\n",
       "    <tr>\n",
       "      <th>1</th>\n",
       "      <td>BIM</td>\n",
       "      <td>how can I find information about canceling ord...</td>\n",
       "      <td>ORDER</td>\n",
       "      <td>cancel_order</td>\n",
       "    </tr>\n",
       "    <tr>\n",
       "      <th>2</th>\n",
       "      <td>B</td>\n",
       "      <td>I need help with canceling the last order</td>\n",
       "      <td>ORDER</td>\n",
       "      <td>cancel_order</td>\n",
       "    </tr>\n",
       "    <tr>\n",
       "      <th>3</th>\n",
       "      <td>BIP</td>\n",
       "      <td>could you help me cancelling the last order I ...</td>\n",
       "      <td>ORDER</td>\n",
       "      <td>cancel_order</td>\n",
       "    </tr>\n",
       "    <tr>\n",
       "      <th>4</th>\n",
       "      <td>B</td>\n",
       "      <td>problem with cancelling an order I made</td>\n",
       "      <td>ORDER</td>\n",
       "      <td>cancel_order</td>\n",
       "    </tr>\n",
       "    <tr>\n",
       "      <th>...</th>\n",
       "      <td>...</td>\n",
       "      <td>...</td>\n",
       "      <td>...</td>\n",
       "      <td>...</td>\n",
       "    </tr>\n",
       "    <tr>\n",
       "      <th>8170</th>\n",
       "      <td>BM</td>\n",
       "      <td>I need help to check if there is any updates o...</td>\n",
       "      <td>REFUND</td>\n",
       "      <td>track_refund</td>\n",
       "    </tr>\n",
       "    <tr>\n",
       "      <th>8171</th>\n",
       "      <td>BK</td>\n",
       "      <td>refund status</td>\n",
       "      <td>REFUND</td>\n",
       "      <td>track_refund</td>\n",
       "    </tr>\n",
       "    <tr>\n",
       "      <th>8172</th>\n",
       "      <td>BI</td>\n",
       "      <td>how can I check the status of the refund?</td>\n",
       "      <td>REFUND</td>\n",
       "      <td>track_refund</td>\n",
       "    </tr>\n",
       "    <tr>\n",
       "      <th>8173</th>\n",
       "      <td>B</td>\n",
       "      <td>help checking if there is anything wrong with ...</td>\n",
       "      <td>REFUND</td>\n",
       "      <td>track_refund</td>\n",
       "    </tr>\n",
       "    <tr>\n",
       "      <th>8174</th>\n",
       "      <td>BI</td>\n",
       "      <td>anything new on my refund?</td>\n",
       "      <td>REFUND</td>\n",
       "      <td>track_refund</td>\n",
       "    </tr>\n",
       "  </tbody>\n",
       "</table>\n",
       "<p>8175 rows × 4 columns</p>\n",
       "</div>"
      ],
      "text/plain": [
       "     flags                                          utterance category  \\\n",
       "0       BM            I have problems with canceling an order    ORDER   \n",
       "1      BIM  how can I find information about canceling ord...    ORDER   \n",
       "2        B          I need help with canceling the last order    ORDER   \n",
       "3      BIP  could you help me cancelling the last order I ...    ORDER   \n",
       "4        B            problem with cancelling an order I made    ORDER   \n",
       "...    ...                                                ...      ...   \n",
       "8170    BM  I need help to check if there is any updates o...   REFUND   \n",
       "8171    BK                                      refund status   REFUND   \n",
       "8172    BI          how can I check the status of the refund?   REFUND   \n",
       "8173     B  help checking if there is anything wrong with ...   REFUND   \n",
       "8174    BI                         anything new on my refund?   REFUND   \n",
       "\n",
       "            intent  \n",
       "0     cancel_order  \n",
       "1     cancel_order  \n",
       "2     cancel_order  \n",
       "3     cancel_order  \n",
       "4     cancel_order  \n",
       "...            ...  \n",
       "8170  track_refund  \n",
       "8171  track_refund  \n",
       "8172  track_refund  \n",
       "8173  track_refund  \n",
       "8174  track_refund  \n",
       "\n",
       "[8175 rows x 4 columns]"
      ]
     },
     "execution_count": 3,
     "metadata": {},
     "output_type": "execute_result"
    }
   ],
   "source": [
    "data"
   ]
  },
  {
   "cell_type": "code",
   "execution_count": 4,
   "id": "4b1527c2",
   "metadata": {},
   "outputs": [],
   "source": [
    "# !pip install scikit-learn spacy\n",
    "# # python -m spacy download en_core_web_sm\n"
   ]
  },
  {
   "cell_type": "code",
   "execution_count": 5,
   "id": "c8476883",
   "metadata": {},
   "outputs": [],
   "source": [
    "import pandas as pd\n",
    "import numpy as np\n",
    "import spacy\n",
    "from sklearn.feature_extraction.text import TfidfVectorizer\n",
    "from sklearn.svm import LinearSVC\n",
    "from sklearn.pipeline import make_pipeline\n",
    "from sklearn.preprocessing import LabelEncoder\n"
   ]
  },
  {
   "cell_type": "code",
   "execution_count": 6,
   "id": "94e76cfe",
   "metadata": {},
   "outputs": [],
   "source": [
    "# Preprocessing: remove unwanted columns and fill missing values if any\n",
    "data = data[['utterance', 'intent']]\n",
    "\n",
    "# Check for and handle any missing values (if present)\n",
    "data = data.dropna()"
   ]
  },
  {
   "cell_type": "code",
   "execution_count": 8,
   "id": "c0feae47",
   "metadata": {},
   "outputs": [],
   "source": [
    "# Separate the features (utterances) and target (intents)\n",
    "X = data['utterance']\n",
    "y = data['intent']\n",
    "\n"
   ]
  },
  {
   "cell_type": "code",
   "execution_count": null,
   "id": "81357f0d",
   "metadata": {},
   "outputs": [],
   "source": [
    "# Split your data into training and testing sets\n",
    "from sklearn.model_selection import train_test_split\n",
    "\n",
    "X_train, X_test, y_train, y_test = train_test_split(X, y_encoded, test_size=0.2, random_state=42)\n"
   ]
  },
  {
   "cell_type": "code",
   "execution_count": null,
   "id": "6c1a8ecc",
   "metadata": {},
   "outputs": [],
   "source": [
    "\n",
    "# Encode the target labels\n",
    "label_encoder = LabelEncoder()\n",
    "y_encoded = label_encoder.fit_transform(y)"
   ]
  },
  {
   "cell_type": "code",
   "execution_count": 9,
   "id": "eb0f8790",
   "metadata": {},
   "outputs": [],
   "source": [
    "vectorizer = TfidfVectorizer(ngram_range=(1, 2), max_features=5000)\n"
   ]
  },
  {
   "cell_type": "code",
   "execution_count": 10,
   "id": "b52d19b0",
   "metadata": {},
   "outputs": [
    {
     "name": "stderr",
     "output_type": "stream",
     "text": [
      "/home/subhadip/anaconda3/lib/python3.10/site-packages/sklearn/svm/_classes.py:32: FutureWarning: The default value of `dual` will change from `True` to `'auto'` in 1.5. Set the value of `dual` explicitly to suppress the warning.\n",
      "  warnings.warn(\n"
     ]
    },
    {
     "data": {
      "text/html": [
       "<style>#sk-container-id-1 {color: black;}#sk-container-id-1 pre{padding: 0;}#sk-container-id-1 div.sk-toggleable {background-color: white;}#sk-container-id-1 label.sk-toggleable__label {cursor: pointer;display: block;width: 100%;margin-bottom: 0;padding: 0.3em;box-sizing: border-box;text-align: center;}#sk-container-id-1 label.sk-toggleable__label-arrow:before {content: \"▸\";float: left;margin-right: 0.25em;color: #696969;}#sk-container-id-1 label.sk-toggleable__label-arrow:hover:before {color: black;}#sk-container-id-1 div.sk-estimator:hover label.sk-toggleable__label-arrow:before {color: black;}#sk-container-id-1 div.sk-toggleable__content {max-height: 0;max-width: 0;overflow: hidden;text-align: left;background-color: #f0f8ff;}#sk-container-id-1 div.sk-toggleable__content pre {margin: 0.2em;color: black;border-radius: 0.25em;background-color: #f0f8ff;}#sk-container-id-1 input.sk-toggleable__control:checked~div.sk-toggleable__content {max-height: 200px;max-width: 100%;overflow: auto;}#sk-container-id-1 input.sk-toggleable__control:checked~label.sk-toggleable__label-arrow:before {content: \"▾\";}#sk-container-id-1 div.sk-estimator input.sk-toggleable__control:checked~label.sk-toggleable__label {background-color: #d4ebff;}#sk-container-id-1 div.sk-label input.sk-toggleable__control:checked~label.sk-toggleable__label {background-color: #d4ebff;}#sk-container-id-1 input.sk-hidden--visually {border: 0;clip: rect(1px 1px 1px 1px);clip: rect(1px, 1px, 1px, 1px);height: 1px;margin: -1px;overflow: hidden;padding: 0;position: absolute;width: 1px;}#sk-container-id-1 div.sk-estimator {font-family: monospace;background-color: #f0f8ff;border: 1px dotted black;border-radius: 0.25em;box-sizing: border-box;margin-bottom: 0.5em;}#sk-container-id-1 div.sk-estimator:hover {background-color: #d4ebff;}#sk-container-id-1 div.sk-parallel-item::after {content: \"\";width: 100%;border-bottom: 1px solid gray;flex-grow: 1;}#sk-container-id-1 div.sk-label:hover label.sk-toggleable__label {background-color: #d4ebff;}#sk-container-id-1 div.sk-serial::before {content: \"\";position: absolute;border-left: 1px solid gray;box-sizing: border-box;top: 0;bottom: 0;left: 50%;z-index: 0;}#sk-container-id-1 div.sk-serial {display: flex;flex-direction: column;align-items: center;background-color: white;padding-right: 0.2em;padding-left: 0.2em;position: relative;}#sk-container-id-1 div.sk-item {position: relative;z-index: 1;}#sk-container-id-1 div.sk-parallel {display: flex;align-items: stretch;justify-content: center;background-color: white;position: relative;}#sk-container-id-1 div.sk-item::before, #sk-container-id-1 div.sk-parallel-item::before {content: \"\";position: absolute;border-left: 1px solid gray;box-sizing: border-box;top: 0;bottom: 0;left: 50%;z-index: -1;}#sk-container-id-1 div.sk-parallel-item {display: flex;flex-direction: column;z-index: 1;position: relative;background-color: white;}#sk-container-id-1 div.sk-parallel-item:first-child::after {align-self: flex-end;width: 50%;}#sk-container-id-1 div.sk-parallel-item:last-child::after {align-self: flex-start;width: 50%;}#sk-container-id-1 div.sk-parallel-item:only-child::after {width: 0;}#sk-container-id-1 div.sk-dashed-wrapped {border: 1px dashed gray;margin: 0 0.4em 0.5em 0.4em;box-sizing: border-box;padding-bottom: 0.4em;background-color: white;}#sk-container-id-1 div.sk-label label {font-family: monospace;font-weight: bold;display: inline-block;line-height: 1.2em;}#sk-container-id-1 div.sk-label-container {text-align: center;}#sk-container-id-1 div.sk-container {/* jupyter's `normalize.less` sets `[hidden] { display: none; }` but bootstrap.min.css set `[hidden] { display: none !important; }` so we also need the `!important` here to be able to override the default hidden behavior on the sphinx rendered scikit-learn.org. See: https://github.com/scikit-learn/scikit-learn/issues/21755 */display: inline-block !important;position: relative;}#sk-container-id-1 div.sk-text-repr-fallback {display: none;}</style><div id=\"sk-container-id-1\" class=\"sk-top-container\"><div class=\"sk-text-repr-fallback\"><pre>Pipeline(steps=[(&#x27;tfidfvectorizer&#x27;,\n",
       "                 TfidfVectorizer(max_features=5000, ngram_range=(1, 2))),\n",
       "                (&#x27;linearsvc&#x27;, LinearSVC())])</pre><b>In a Jupyter environment, please rerun this cell to show the HTML representation or trust the notebook. <br />On GitHub, the HTML representation is unable to render, please try loading this page with nbviewer.org.</b></div><div class=\"sk-container\" hidden><div class=\"sk-item sk-dashed-wrapped\"><div class=\"sk-label-container\"><div class=\"sk-label sk-toggleable\"><input class=\"sk-toggleable__control sk-hidden--visually\" id=\"sk-estimator-id-1\" type=\"checkbox\" ><label for=\"sk-estimator-id-1\" class=\"sk-toggleable__label sk-toggleable__label-arrow\">Pipeline</label><div class=\"sk-toggleable__content\"><pre>Pipeline(steps=[(&#x27;tfidfvectorizer&#x27;,\n",
       "                 TfidfVectorizer(max_features=5000, ngram_range=(1, 2))),\n",
       "                (&#x27;linearsvc&#x27;, LinearSVC())])</pre></div></div></div><div class=\"sk-serial\"><div class=\"sk-item\"><div class=\"sk-estimator sk-toggleable\"><input class=\"sk-toggleable__control sk-hidden--visually\" id=\"sk-estimator-id-2\" type=\"checkbox\" ><label for=\"sk-estimator-id-2\" class=\"sk-toggleable__label sk-toggleable__label-arrow\">TfidfVectorizer</label><div class=\"sk-toggleable__content\"><pre>TfidfVectorizer(max_features=5000, ngram_range=(1, 2))</pre></div></div></div><div class=\"sk-item\"><div class=\"sk-estimator sk-toggleable\"><input class=\"sk-toggleable__control sk-hidden--visually\" id=\"sk-estimator-id-3\" type=\"checkbox\" ><label for=\"sk-estimator-id-3\" class=\"sk-toggleable__label sk-toggleable__label-arrow\">LinearSVC</label><div class=\"sk-toggleable__content\"><pre>LinearSVC()</pre></div></div></div></div></div></div></div>"
      ],
      "text/plain": [
       "Pipeline(steps=[('tfidfvectorizer',\n",
       "                 TfidfVectorizer(max_features=5000, ngram_range=(1, 2))),\n",
       "                ('linearsvc', LinearSVC())])"
      ]
     },
     "execution_count": 10,
     "metadata": {},
     "output_type": "execute_result"
    }
   ],
   "source": [
    "# Create a pipeline with the vectorizer and SVM classifier\n",
    "classifier = make_pipeline(vectorizer, LinearSVC())\n",
    "\n",
    "# Train the model\n",
    "classifier.fit(X, y_encoded)\n"
   ]
  },
  {
   "cell_type": "code",
   "execution_count": 11,
   "id": "7f1cb904",
   "metadata": {},
   "outputs": [],
   "source": [
    "def get_chatbot_response(user_input):\n",
    "    # Preprocess user input\n",
    "    user_input = [user_input]\n",
    "\n",
    "    # Predict intent using the trained model\n",
    "    predicted_class = classifier.predict(user_input)\n",
    "\n",
    "    # Convert the predicted class back to the original label\n",
    "    predicted_intent = label_encoder.inverse_transform(predicted_class)\n",
    "\n",
    "    # Get the response based on the recognized intent\n",
    "    response = responses.get(predicted_intent[0], 'Sorry, I couldn\\'t understand. Please try again.')\n",
    "\n",
    "    return response\n"
   ]
  },
  {
   "cell_type": "code",
   "execution_count": 12,
   "id": "540c7f08",
   "metadata": {},
   "outputs": [],
   "source": [
    "responses = {\n",
    "    'cancel_order': 'Your order has been canceled successfully.',\n",
    "    'complaint': 'We apologize for the inconvenience. Please provide more details, and we will assist you.',\n",
    "    'contact_customer_service': 'You can contact our customer service at 1-800-XXX-XXXX.',\n",
    "    'contact_human_agent': 'I am sorry, but I am just a virtual assistant. For more personalized assistance, please contact our customer service and ask to speak with a human agent.',\n",
    "    'create_account': 'To create a new account, please visit our website and click on the \\'Sign Up\\' button. Follow the instructions to complete the registration process.',\n",
    "    'change_order': 'If you need to make changes to your order, please contact our customer service as soon as possible. We\\'ll do our best to accommodate your request.',\n",
    "    'change_shipping_address': 'To update your shipping address, log in to your account and navigate to the \\'My Account\\' section. From there, you can edit your shipping information.',\n",
    "    'check_cancellation_fee': 'To check the cancellation fee for your order, please refer to our website\\'s cancellation policy or contact our customer service for more details.',\n",
    "    'check_invoices': 'To view your invoices, log in to your account and go to the \\'Invoices\\' section. There, you can access and download your billing history.',\n",
    "    'check_payment_methods': 'You can check the available payment methods during the checkout process on our website. We accept credit cards, debit cards, and PayPal.',\n",
    "    'check_refund_policy': 'To understand our refund policy, please visit our website\\'s refund policy page. If you have any specific questions, feel free to contact our customer service.',\n",
    "    'delete_account': 'To delete your account, please contact our customer service and request an account deletion. We\\'ll guide you through the process.',\n",
    "    'delivery_options': 'We offer various delivery options, including standard shipping, express delivery, and same-day delivery. You can choose the one that best suits your needs during the checkout process.',\n",
    "    'delivery_period': 'The delivery period depends on your location and the chosen delivery option. You will receive an estimated delivery date during the checkout process.',\n",
    "    'edit_account': 'To edit your account information, log in to your account and navigate to the \\'My Account\\' section. From there, you can update your personal details.',\n",
    "    'get_invoice': 'To get a copy of your invoice, log in to your account and visit the \\'Invoices\\' section. There, you can download and print your invoices.',\n",
    "    'get_refund': 'To request a refund, please contact our customer service and provide the necessary order details. We\\'ll process your refund as per our refund policy.',\n",
    "    'newsletter_subscription': 'To subscribe to our newsletter, go to our website\\'s newsletter subscription page and enter your email address. You will receive updates and promotions via email.',\n",
    "    'payment_issue': 'If you are facing any issues with your payment, please check your payment method and billing details. If the problem persists, contact our customer service for assistance.',\n",
    "    'place_order': 'To place an order, add the desired items to your cart and proceed to checkout. Follow the instructions to complete your purchase.',\n",
    "    'recover_password': 'If you forgot your password, go to the login page and click on the \\'Forgot Password\\' link. Follow the instructions to reset your password.',\n",
    "    'registration_problems': 'If you encounter any problems during the registration process, please contact our customer service for help.',\n",
    "    'review': 'We value your feedback. You can leave a review for our products or services on our website or contact our customer service to share your feedback directly.',\n",
    "    'set_up_shipping_address': 'To set up your shipping address, log in to your account and navigate to the \\'Shipping Address\\' section. There, you can add or update your shipping information.',\n",
    "    'switch_account': 'To switch between multiple accounts, log out of the current account and log in using the credentials of the account you want to switch to.',\n",
    "    'track_order': 'To track your order, log in to your account and go to the \\'Order Tracking\\' section. There, you can see the status and progress of your order.',\n",
    "    'track_refund': 'To track the status of your refund, log in to your account and visit the \\'Refunds\\' section. There, you can see the details of your refund process.',\n",
    "    # Add more responses for other intents\n",
    "}\n"
   ]
  },
  {
   "cell_type": "code",
   "execution_count": 13,
   "id": "7ce37c10",
   "metadata": {},
   "outputs": [
    {
     "name": "stdout",
     "output_type": "stream",
     "text": [
      "Chatbot Response 1: To track your order, log in to your account and go to the 'Order Tracking' section. There, you can see the status and progress of your order.\n",
      "Chatbot Response 2: Your order has been canceled successfully.\n"
     ]
    }
   ],
   "source": [
    "# Example user inputs\n",
    "user_input1 = \"How can I track my order?\"\n",
    "user_input2 = \"I want to cancel my order.\"\n",
    "\n",
    "# Get the chatbot responses\n",
    "response1 = get_chatbot_response(user_input1)\n",
    "response2 = get_chatbot_response(user_input2)\n",
    "\n",
    "print(\"Chatbot Response 1:\", response1)\n",
    "print(\"Chatbot Response 2:\", response2)\n"
   ]
  },
  {
   "cell_type": "code",
   "execution_count": 14,
   "id": "9081d376",
   "metadata": {},
   "outputs": [
    {
     "data": {
      "text/plain": [
       "['model.pkl']"
      ]
     },
     "execution_count": 14,
     "metadata": {},
     "output_type": "execute_result"
    }
   ],
   "source": [
    "import joblib\n",
    "\n",
    "# Assuming you have trained and named your model as 'classifier'\n",
    "# Save the model to a file\n",
    "joblib.dump(classifier, 'model.pkl')\n"
   ]
  },
  {
   "cell_type": "code",
   "execution_count": 15,
   "id": "5d741275",
   "metadata": {},
   "outputs": [],
   "source": [
    "def get_chatbot_response(user_input):\n",
    "    # Preprocess user input\n",
    "    user_input = [user_input]\n",
    "\n",
    "    # Predict intent using the trained model\n",
    "    predicted_class = classifier.predict(user_input)\n",
    "\n",
    "    # Convert the predicted class back to the original label\n",
    "    predicted_intent = label_encoder.inverse_transform(predicted_class)\n",
    "\n",
    "    # Get the response based on the recognized intent\n",
    "    response = responses.get(predicted_intent[0], 'Sorry, I couldn\\'t understand. Please try again.')\n",
    "\n",
    "    return response"
   ]
  },
  {
   "cell_type": "code",
   "execution_count": 16,
   "id": "7e9b319c",
   "metadata": {},
   "outputs": [
    {
     "data": {
      "text/plain": [
       "\"To track your order, log in to your account and go to the 'Order Tracking' section. There, you can see the status and progress of your order.\""
      ]
     },
     "execution_count": 16,
     "metadata": {},
     "output_type": "execute_result"
    }
   ],
   "source": [
    "get_chatbot_response(\"How can I track my order?\")"
   ]
  },
  {
   "cell_type": "code",
   "execution_count": 17,
   "id": "d4c97437",
   "metadata": {},
   "outputs": [],
   "source": [
    "from sklearn.model_selection import train_test_split\n",
    "\n",
    "X_train, X_test, y_train, y_test = train_test_split(X, y_encoded, test_size=0.2, random_state=42)\n"
   ]
  },
  {
   "cell_type": "code",
   "execution_count": 18,
   "id": "df5d002e",
   "metadata": {},
   "outputs": [
    {
     "name": "stdout",
     "output_type": "stream",
     "text": [
      "Model Accuracy: 1.00\n"
     ]
    },
    {
     "name": "stderr",
     "output_type": "stream",
     "text": [
      "/home/subhadip/anaconda3/lib/python3.10/site-packages/sklearn/svm/_classes.py:32: FutureWarning: The default value of `dual` will change from `True` to `'auto'` in 1.5. Set the value of `dual` explicitly to suppress the warning.\n",
      "  warnings.warn(\n"
     ]
    }
   ],
   "source": [
    "# Train the model on the training set\n",
    "classifier.fit(X_train, y_train)\n",
    "\n",
    "# Evaluate the model on the testing set\n",
    "accuracy = classifier.score(X_test, y_test)\n",
    "print(f\"Model Accuracy: {accuracy:.2f}\")\n"
   ]
  },
  {
   "cell_type": "code",
   "execution_count": 19,
   "id": "77cd7f33",
   "metadata": {},
   "outputs": [
    {
     "name": "stdout",
     "output_type": "stream",
     "text": [
      "Confusion Matrix:\n",
      " [[61  0  0  1  0  0  0  0  0  0  0  0  0  0  0  0  0  0  0  0  0  0  0  0\n",
      "   0  0  0]\n",
      " [ 0 70  0  0  0  0  0  0  0  0  0  0  0  0  0  0  0  0  0  0  0  0  0  0\n",
      "   0  0  0]\n",
      " [ 0  0 59  0  0  0  0  0  0  0  0  0  0  0  1  0  0  0  0  0  0  0  0  0\n",
      "   0  0  0]\n",
      " [ 0  0  0 65  1  0  0  0  0  0  0  0  0  0  0  0  0  0  0  0  0  0  0  0\n",
      "   0  0  0]\n",
      " [ 0  0  0  0 63  0  0  0  0  0  0  0  0  0  0  0  0  0  0  0  0  0  0  0\n",
      "   0  0  0]\n",
      " [ 0  0  0  0  0 67  0  0  0  0  0  0  1  0  0  0  0  0  0  0  0  0  0  0\n",
      "   0  0  0]\n",
      " [ 0  0  0  0  0  0 59  0  0  0  0  0  0  0  0  0  0  0  0  0  0  0  0  0\n",
      "   0  0  0]\n",
      " [ 0  0  0  0  0  0  0 52  0  0  0  0  0  0  0  0  0  0  0  0  0  0  0  0\n",
      "   0  0  0]\n",
      " [ 0  0  0  0  0  0  0  0 61  0  0  0  0  0  0  0  0  0  0  0  0  0  0  0\n",
      "   0  0  0]\n",
      " [ 0  0  0  0  0  0  0  0  0 57  0  0  0  0  0  0  0  0  0  0  0  0  0  0\n",
      "   0  0  0]\n",
      " [ 0  0  0  0  0  0  0  0  0  0 61  0  0  0  0  0  0  0  0  0  0  0  0  0\n",
      "   1  0  0]\n",
      " [ 0  0  0  0  0  0  0  0  0  0  0 53  0  0  0  0  0  0  0  0  0  0  0  0\n",
      "   0  0  0]\n",
      " [ 0  0  0  0  0  0  0  0  0  0  0  0 55  0  0  0  0  0  0  0  0  0  0  0\n",
      "   0  0  0]\n",
      " [ 0  0  0  0  0  0  0  0  0  0  0  0  0 49  0  0  0  0  0  0  0  0  0  0\n",
      "   0  0  0]\n",
      " [ 0  0  0  0  0  0  0  0  0  0  0  0  0  0 69  0  0  0  0  0  0  0  0  0\n",
      "   0  0  0]\n",
      " [ 0  0  0  0  0  0  0  0  0  0  0  0  0  0  0 72  0  0  0  0  0  0  0  0\n",
      "   0  0  0]\n",
      " [ 0  0  0  0  0  0  0  0  0  0  0  0  0  0  0  0 60  0  0  0  0  0  0  0\n",
      "   0  0  0]\n",
      " [ 0  0  0  0  0  0  0  0  0  0  0  0  0  0  0  0  0 49  0  0  0  0  0  0\n",
      "   0  0  0]\n",
      " [ 0  0  0  0  0  0  0  0  0  0  0  0  0  0  0  0  0  0 67  0  0  1  0  0\n",
      "   0  0  0]\n",
      " [ 0  0  0  0  0  0  0  0  0  0  0  0  0  0  0  0  0  0  0 65  0  0  0  0\n",
      "   0  0  0]\n",
      " [ 0  0  0  0  0  0  0  0  0  0  0  0  0  0  0  0  0  0  0  0 62  0  0  0\n",
      "   0  0  0]\n",
      " [ 0  0  0  0  0  0  0  0  0  0  0  0  0  0  0  0  0  0  0  0  0 53  0  0\n",
      "   0  0  0]\n",
      " [ 0  0  0  0  0  0  0  0  0  0  0  0  0  0  0  0  0  0  0  0  0  0 67  0\n",
      "   0  0  0]\n",
      " [ 0  0  0  0  0  0  0  0  0  0  0  0  0  0  0  0  0  0  0  0  0  0  0 59\n",
      "   0  0  0]\n",
      " [ 0  0  0  0  0  0  0  0  0  0  0  0  0  0  0  0  0  0  0  0  0  0  0  0\n",
      "  57  0  0]\n",
      " [ 0  0  0  0  0  0  0  0  0  0  0  0  0  0  0  0  0  0  0  0  0  0  0  0\n",
      "   0 63  0]\n",
      " [ 0  0  0  0  0  0  0  0  0  0  0  0  0  0  0  0  0  0  0  0  0  0  0  0\n",
      "   0  0 54]]\n",
      "Classification Report:\n",
      "                           precision    recall  f1-score   support\n",
      "\n",
      "            cancel_order       1.00      0.98      0.99        62\n",
      "            change_order       1.00      1.00      1.00        70\n",
      " change_shipping_address       1.00      0.98      0.99        60\n",
      "  check_cancellation_fee       0.98      0.98      0.98        66\n",
      "           check_invoice       0.98      1.00      0.99        63\n",
      "   check_payment_methods       1.00      0.99      0.99        68\n",
      "     check_refund_policy       1.00      1.00      1.00        59\n",
      "               complaint       1.00      1.00      1.00        52\n",
      "contact_customer_service       1.00      1.00      1.00        61\n",
      "     contact_human_agent       1.00      1.00      1.00        57\n",
      "          create_account       1.00      0.98      0.99        62\n",
      "          delete_account       1.00      1.00      1.00        53\n",
      "        delivery_options       0.98      1.00      0.99        55\n",
      "         delivery_period       1.00      1.00      1.00        49\n",
      "            edit_account       0.99      1.00      0.99        69\n",
      "             get_invoice       1.00      1.00      1.00        72\n",
      "              get_refund       1.00      1.00      1.00        60\n",
      " newsletter_subscription       1.00      1.00      1.00        49\n",
      "           payment_issue       1.00      0.99      0.99        68\n",
      "             place_order       1.00      1.00      1.00        65\n",
      "        recover_password       1.00      1.00      1.00        62\n",
      "   registration_problems       0.98      1.00      0.99        53\n",
      "                  review       1.00      1.00      1.00        67\n",
      " set_up_shipping_address       1.00      1.00      1.00        59\n",
      "          switch_account       0.98      1.00      0.99        57\n",
      "             track_order       1.00      1.00      1.00        63\n",
      "            track_refund       1.00      1.00      1.00        54\n",
      "\n",
      "                accuracy                           1.00      1635\n",
      "               macro avg       1.00      1.00      1.00      1635\n",
      "            weighted avg       1.00      1.00      1.00      1635\n",
      "\n"
     ]
    }
   ],
   "source": [
    "from sklearn.metrics import confusion_matrix, classification_report\n",
    "\n",
    "# Predict intent on the testing set\n",
    "y_pred = classifier.predict(X_test)\n",
    "\n",
    "# Calculate confusion matrix\n",
    "conf_matrix = confusion_matrix(y_test, y_pred)\n",
    "\n",
    "# Generate classification report\n",
    "class_report = classification_report(y_test, y_pred, target_names=label_encoder.classes_)\n",
    "\n",
    "print(\"Confusion Matrix:\\n\", conf_matrix)\n",
    "print(\"Classification Report:\\n\", class_report)\n"
   ]
  },
  {
   "cell_type": "code",
   "execution_count": null,
   "id": "8e4c9c80",
   "metadata": {},
   "outputs": [],
   "source": []
  }
 ],
 "metadata": {
  "kernelspec": {
   "display_name": "Python 3 (ipykernel)",
   "language": "python",
   "name": "python3"
  },
  "language_info": {
   "codemirror_mode": {
    "name": "ipython",
    "version": 3
   },
   "file_extension": ".py",
   "mimetype": "text/x-python",
   "name": "python",
   "nbconvert_exporter": "python",
   "pygments_lexer": "ipython3",
   "version": "3.10.9"
  }
 },
 "nbformat": 4,
 "nbformat_minor": 5
}
